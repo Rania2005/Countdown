{
  "nbformat": 4,
  "nbformat_minor": 0,
  "metadata": {
    "colab": {
      "name": "Countdown.ipynb",
      "provenance": [],
      "collapsed_sections": []
    },
    "kernelspec": {
      "display_name": "Python 3",
      "name": "python3"
    },
    "language_info": {
      "name": "python"
    }
  },
  "cells": [
    {
      "cell_type": "code",
      "metadata": {
        "id": "_hZ9SriWTMs8",
        "colab": {
          "base_uri": "https://localhost:8080/",
          "height": 122
        },
        "outputId": "ae4758fd-f07a-4172-ee21-99870613ab84"
      },
      "source": [
        "import time\n",
        "from time import strftime,gmtime\n",
        "t=int(input('input the length of the countdown in seconds.'))\n",
        "def countdown(t):\n",
        "   while t>0:\n",
        "     m,s = divmod(t,60)\n",
        "     timeformat='{:02d}:{:02d}'.format(m,s)\n",
        "     print(timeformat)\n",
        "\n",
        "     time.sleep(1)\n",
        "     t-=1\n",
        "   print('Fire in the hole')\n",
        "countdown(t) \n",
        "strftime('%a,%d %b %Y %H:%M:%S+0000',gmtime())"
      ],
      "execution_count": 9,
      "outputs": [
        {
          "output_type": "stream",
          "name": "stdout",
          "text": [
            "input the length of the countdown in seconds.3\n",
            "00:03\n",
            "00:02\n",
            "00:01\n",
            "Fire in the hole\n"
          ]
        },
        {
          "output_type": "execute_result",
          "data": {
            "application/vnd.google.colaboratory.intrinsic+json": {
              "type": "string"
            },
            "text/plain": [
              "'Sat,25 Sep 2021 13:50:46+0000'"
            ]
          },
          "metadata": {},
          "execution_count": 9
        }
      ]
    },
    {
      "cell_type": "markdown",
      "metadata": {
        "id": "Dcix_x32-IW1"
      },
      "source": [
        ""
      ]
    }
  ]
}